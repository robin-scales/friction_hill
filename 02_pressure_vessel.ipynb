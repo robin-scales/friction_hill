{
 "cells": [
  {
   "cell_type": "markdown",
   "metadata": {},
   "source": [
    "# Constrained Pressure Vessel"
   ]
  },
  {
   "cell_type": "markdown",
   "metadata": {},
   "source": [
    "## Set Up Virtual Environment\n",
    "The following creates a virtual environment folder for this project, sets it up correctly, and activates the virtual environment."
   ]
  },
  {
   "cell_type": "code",
   "execution_count": 1,
   "metadata": {},
   "outputs": [],
   "source": [
    "import os\n",
    "venvExists = os.path.isdir('venv')\n",
    "if venvExists is False:\n",
    "    os.mkdir(\"venv\")\n",
    "    os.system(\"python -m venv venv\")\n",
    "    os.system(\"pip install -r requirements.txt\")\n",
    "os.system(r\"venv\\Scripts\\activate\")\n",
    "\n",
    "import numpy as np\n",
    "import matplotlib.pyplot as plt"
   ]
  },
  {
   "cell_type": "markdown",
   "metadata": {},
   "source": [
    "## Functions"
   ]
  },
  {
   "cell_type": "code",
   "execution_count": 34,
   "metadata": {},
   "outputs": [],
   "source": [
    "def get_DeltaR(R_i, R_o):\n",
    "    return R_o-R_i\n",
    "\n",
    "def get_sigma_rr(R, P_i, P_o, R_i, R_o, DeltaR):\n",
    "    lhs = P_o*(R_i-R)\n",
    "    rhs = P_i*(-R_o+R)\n",
    "    sigma_rr = (lhs + rhs)/(DeltaR)\n",
    "    # print(f\"sigma_rr = {sigma_rr}\")\n",
    "    return sigma_rr\n",
    "\n",
    "def get_sigma_tt(R, P_i, P_o, R_i, R_o, DeltaR):\n",
    "    lhs = P_o*(R_i+R)\n",
    "    rhs = P_i*(R_o+R)\n",
    "    sigma_tt = (lhs - rhs)/(DeltaR)\n",
    "    # print(f\"sigma_tt = {sigma_tt}\")\n",
    "    return sigma_tt\n",
    "\n",
    "def get_sigma_zz(R, P_i, P_o, R_i, R_o, DeltaR, nu):\n",
    "    lhs = P_o*R_i\n",
    "    rhs = P_i*R_o\n",
    "    sigma_zz = (2*nu*(lhs - rhs))/(DeltaR)\n",
    "    # print(f\"sigma_zz = {sigma_zz}\")\n",
    "    return sigma_zz\n",
    "\n",
    "def get_tensor(R, P_i, P_o, R_i, R_o, nu):\n",
    "    DeltaR = get_DeltaR(R_i=R_i, R_o=R_o)\n",
    "    sigma_rr = get_sigma_rr(R, P_i, P_o, R_i, R_o, DeltaR)\n",
    "    sigma_tt = get_sigma_tt(R, P_i, P_o, R_i, R_o, DeltaR)\n",
    "    sigma_zz = get_sigma_zz(R, P_i, P_o, R_i, R_o, DeltaR, nu)\n",
    "    tensor_o = np.asarray([[sigma_rr,           0.0,                   0.0],\n",
    "                          [0.0,           sigma_tt,                   0.0],\n",
    "                          [0.0,                      0.0,        sigma_zz]])/1E6 # MPa\n",
    "    print(f'\\ntensor @ (r = {R**(1/-2):.3f} m) =')\n",
    "    print(np.round(tensor_o,3))\n",
    "\n",
    "\n",
    "def get_TWPV_tensor(P_i, P_o, r, t):\n",
    "    DeltaP = (P_i-P_o)\n",
    "    print(t)\n",
    "    tensor = np.asarray([[0.0,           0.0,                   0.0],\n",
    "                          [0.0,           (DeltaP*r)/t,                   0.0],\n",
    "                          [0.0,                      0.0,        (DeltaP*r)/(2*t)]])/1E6 # MPa\n",
    "    print(f'\\n thin walled pressure vessel tensor =')\n",
    "    print(np.round(tensor,3))"
   ]
  },
  {
   "cell_type": "markdown",
   "metadata": {},
   "source": [
    "## Main Section\n",
    "You can change the:\n",
    "- $L$ - Length of the billet [m]\n",
    "- $b$ - Width/breadth of the billet [m]\n",
    "- $h$ - Height of the billet [m]\n",
    "- $k$ - Shear yield strength [Pa]\n",
    "- $\\mu$ - Coefficient of friction between $0-1$\n",
    "To normalise the stress set `normY` to `True`."
   ]
  },
  {
   "cell_type": "code",
   "execution_count": 35,
   "metadata": {},
   "outputs": [
    {
     "name": "stdout",
     "output_type": "stream",
     "text": [
      "\n",
      "tensor @ (r = 0.098 m) =\n",
      "[[-1.5    0.     0.   ]\n",
      " [ 0.    69.207  0.   ]\n",
      " [ 0.     0.    16.927]]\n",
      "\n",
      "tensor @ (r = 0.100 m) =\n",
      "[[-0.1    0.     0.   ]\n",
      " [ 0.    67.807  0.   ]\n",
      " [ 0.     0.    16.927]]\n"
     ]
    }
   ],
   "source": [
    "P_o = 0.1E6 # in Pa\n",
    "P_i = 1.5E6 # in Pa\n",
    "r_o = 0.1\n",
    "r_i = 0.1-2E-3\n",
    "R_o = (r_o)**(-2) # in m^-2\n",
    "R_i = (r_i)**(-2) # in m^-2\n",
    "DeltaR = R_o-R_i\n",
    "nu = 0.25\n",
    "R = R_i\n",
    "get_tensor(R_i, P_i, P_o, R_i, R_o, nu)\n",
    "\n",
    "get_tensor(R_o, P_i, P_o, R_i, R_o, nu)"
   ]
  },
  {
   "cell_type": "code",
   "execution_count": 37,
   "metadata": {},
   "outputs": [
    {
     "name": "stdout",
     "output_type": "stream",
     "text": [
      "Thin walled pressure vessel:\n",
      "0.002\n",
      "\n",
      " thin walled pressure vessel tensor =\n",
      "[[ 0.   0.   0. ]\n",
      " [ 0.  68.6  0. ]\n",
      " [ 0.   0.  34.3]]\n"
     ]
    }
   ],
   "source": [
    "print('Thin walled pressure vessel:')\n",
    "t = 2E-3\n",
    "get_TWPV_tensor(P_i, P_o, r=r_i, t=t)"
   ]
  },
  {
   "cell_type": "code",
   "execution_count": null,
   "metadata": {},
   "outputs": [],
   "source": []
  }
 ],
 "metadata": {
  "kernelspec": {
   "display_name": "venv",
   "language": "python",
   "name": "python3"
  },
  "language_info": {
   "codemirror_mode": {
    "name": "ipython",
    "version": 3
   },
   "file_extension": ".py",
   "mimetype": "text/x-python",
   "name": "python",
   "nbconvert_exporter": "python",
   "pygments_lexer": "ipython3",
   "version": "3.12.10"
  }
 },
 "nbformat": 4,
 "nbformat_minor": 2
}
