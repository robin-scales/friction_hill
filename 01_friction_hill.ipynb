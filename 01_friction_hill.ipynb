{
 "cells": [
  {
   "cell_type": "markdown",
   "metadata": {},
   "source": [
    "# Friction Hill"
   ]
  },
  {
   "cell_type": "markdown",
   "metadata": {},
   "source": [
    "## Set Up Virtual Environment\n",
    "The following creates a virtual environment folder for this project, sets it up correctly, and activates the virtual environment."
   ]
  },
  {
   "cell_type": "code",
   "execution_count": null,
   "metadata": {},
   "outputs": [
    {
     "data": {
      "text/plain": [
       "0"
      ]
     },
     "execution_count": 1,
     "metadata": {},
     "output_type": "execute_result"
    }
   ],
   "source": [
    "import os\n",
    "venvExists = os.path.isdir('venv')\n",
    "if venvExists is False:\n",
    "    os.mkdir(\"venv\")\n",
    "    os.system(\"python -m venv venv\")\n",
    "    os.system(\"pip install -r requirements.txt\")\n",
    "os.system(r\"venv\\Scripts\\activate\")"
   ]
  },
  {
   "cell_type": "markdown",
   "metadata": {},
   "source": [
    "By convention the NumPy package is imported as ``np``."
   ]
  },
  {
   "cell_type": "code",
   "execution_count": 3,
   "metadata": {},
   "outputs": [],
   "source": [
    "import numpy as np\n",
    "import os\n",
    "import matplotlib.pyplot as plt"
   ]
  },
  {
   "cell_type": "markdown",
   "metadata": {},
   "source": [
    "## Functions"
   ]
  },
  {
   "cell_type": "code",
   "execution_count": null,
   "metadata": {},
   "outputs": [],
   "source": [
    "def get_pressure_slip(x, k, mu, h, b):\n",
    "    pt1 = 2*mu/h\n",
    "    pt2 = (0.5*b)-x\n",
    "    pt3 = np.multiply(pt1,pt2)\n",
    "    p_slip = 2*k*np.exp(pt3)\n",
    "    return p_slip\n",
    "\n",
    "def pressure_stick(x, k, h, b):\n",
    "    pt1 = h**(-1)\n",
    "    pt2 = (0.5*b)-x\n",
    "    pt3 = np.multiply(pt1,pt2)\n",
    "    p_stick = 2*k*(1 + pt3)\n",
    "    return p_stick\n",
    "\n",
    "def get_pressure_stick(x, k, mu, h, b):\n",
    "    p_stick = pressure_stick(x, k, h, b)\n",
    "\n",
    "    t = distance_transition(mu, h, b)\n",
    "\n",
    "    # Correct so that the pressures meet in value\n",
    "    p_stick_t = pressure_stick(t, k, h, b) - get_pressure_slip(t, k, mu, h, b)\n",
    "    p_stick = p_stick-p_stick_t\n",
    "\n",
    "    return p_stick\n",
    "\n",
    "def distance_transition(mu, h, b):\n",
    "    pt1 = h/(2*mu)\n",
    "    pt2 = np.log(1/(2*mu))\n",
    "    pt3 = pt1*pt2\n",
    "    t = (b/2)-pt3\n",
    "    # To avoid negative values\n",
    "    t = max(t,0)\n",
    "    return t"
   ]
  },
  {
   "cell_type": "code",
   "execution_count": null,
   "metadata": {},
   "outputs": [],
   "source": [
    "\n",
    "# yline(2*k,'--','2k')"
   ]
  },
  {
   "cell_type": "markdown",
   "metadata": {},
   "source": [
    "## User Inputs"
   ]
  },
  {
   "cell_type": "code",
   "execution_count": 93,
   "metadata": {},
   "outputs": [
    {
     "name": "stdout",
     "output_type": "stream",
     "text": [
      "Transition distance = 0.000 m\n",
      "F_proper = 10.98368 MN\n",
      "F_slip = 10.98368 MN\n"
     ]
    },
    {
     "data": {
      "image/png": "[encoded data removed]",
      "text/plain": [
       "<Figure size 640x480 with 1 Axes>"
      ]
     },
     "metadata": {},
     "output_type": "display_data"
    }
   ],
   "source": [
    "L = 1\n",
    "b = 150E-3\n",
    "h = 50E-3\n",
    "k = 50E6/2\n",
    "mu = 0.24\n",
    "\n",
    "t = distance_transition(mu, h, b)\n",
    "print(f\"Transition distance = {t:.3f} m\")\n",
    "\n",
    "x_stick = np.linspace(0, t, 10000)\n",
    "x_slip = np.linspace(t, b/2, 10000)\n",
    "\n",
    "p_slip = get_pressure_slip(x_slip, k, mu, h, b)\n",
    "p_stick = get_pressure_stick(x_stick, k, mu, h, b)\n",
    "\n",
    "plt.plot(x_slip, p_slip/1E6, label='slip', c='blue')\n",
    "plt.plot(x_stick, p_stick/1E6, label='stick', c='orange')\n",
    "plt.ylabel('Pressure [MPa]')\n",
    "plt.xlabel('Distance From Centre [m]')\n",
    "plt.ylim(bottom=0)\n",
    "plt.xlim(left=0, right=b/2)\n",
    "plt.hlines(y=2*k/1E6, xmin=0, xmax=b/2, linestyles='dashed', label=r'$Y...(=2k)$', colors='black')\n",
    "plt.hlines(y=4*k/1E6, xmin=0, xmax=b/2, linestyles='dashed', label=r'$Y/2*\\mu...(\\tau=k)$', colors='orange')\n",
    "plt.legend()\n",
    "\n",
    "\n",
    "f1 = np.trapezoid(p_stick, x_stick)\n",
    "f2 = np.trapezoid(p_slip, x_slip)\n",
    "\n",
    "f = 2*L*(f1+f2)\n",
    "print(f'F_proper = {f/1E6:.5f} MN')\n",
    "\n",
    "x_whole = np.linspace(0, b/2, 10000)\n",
    "p_slip_whole = get_pressure_slip(x_whole, k, mu, h, b)\n",
    "f_justSlip = 2*L*np.trapezoid(p_slip_whole, x_whole)\n",
    "plt.plot(x_whole, p_slip_whole/1E6, label='slip whole', c='blue', ls='--', alpha=0.25)\n",
    "plt.ylim(bottom=0, top=np.max(p_slip_whole/1E6))\n",
    "\n",
    "print(f'F_slip = {f_justSlip/1E6:.5f} MN')"
   ]
  },
  {
   "cell_type": "code",
   "execution_count": null,
   "metadata": {},
   "outputs": [],
   "source": []
  }
 ],
 "metadata": {
  "kernelspec": {
   "display_name": "venv",
   "language": "python",
   "name": "python3"
  },
  "language_info": {
   "codemirror_mode": {
    "name": "ipython",
    "version": 3
   },
   "file_extension": ".py",
   "mimetype": "text/x-python",
   "name": "python",
   "nbconvert_exporter": "python",
   "pygments_lexer": "ipython3",
   "version": "3.12.10"
  }
 },
 "nbformat": 4,
 "nbformat_minor": 2
}
